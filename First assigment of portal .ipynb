{
 "cells": [
  {
   "cell_type": "markdown",
   "id": "a8b022ed-3c44-45ba-a28c-9f569d9b1a2b",
   "metadata": {},
   "source": [
    "# Count Digits, Letters, and Special Characters"
   ]
  },
  {
   "cell_type": "code",
   "execution_count": 1,
   "id": "4f3afdeb-7293-40e5-a8d0-372395066370",
   "metadata": {},
   "outputs": [
    {
     "name": "stdin",
     "output_type": "stream",
     "text": [
      "Enter a string:  my name is haider ali @bbas\n"
     ]
    },
    {
     "name": "stdout",
     "output_type": "stream",
     "text": [
      "Letters: 21\n",
      "Digits: 0\n",
      "Special characters: 6\n"
     ]
    }
   ],
   "source": [
    "text = input(\"Enter a string: \")\n",
    "letters = digits = special = 0\n",
    "\n",
    "for ch in text:\n",
    "    if ch.isalpha():\n",
    "        letters += 1\n",
    "    elif ch.isdigit():\n",
    "        digits += 1\n",
    "    else:\n",
    "        special += 1\n",
    "\n",
    "print(\"Letters:\", letters)\n",
    "print(\"Digits:\", digits)\n",
    "print(\"Special characters:\", special)\n"
   ]
  },
  {
   "cell_type": "markdown",
   "id": "1ad20c8a-7703-4925-844c-d1f2b6f0768a",
   "metadata": {},
   "source": [
    "# Numbers Divisible by 4 or 6 (But Not Both)"
   ]
  },
  {
   "cell_type": "code",
   "execution_count": 5,
   "id": "54665b1b-9323-41f9-a8fe-c215597f2d41",
   "metadata": {},
   "outputs": [
    {
     "name": "stdin",
     "output_type": "stream",
     "text": [
      "Enter start of range:  1\n",
      "Enter end of range:  40\n"
     ]
    },
    {
     "name": "stdout",
     "output_type": "stream",
     "text": [
      "4, 6, 8, 16, 18, 20, 28, 30, 32, 40, "
     ]
    }
   ],
   "source": [
    "start = int(input(\"Enter start of range: \"))\n",
    "end = int(input(\"Enter end of range: \"))\n",
    "for i in range(start, end + 1):\n",
    "    if (i % 4 == 0 or i % 6 == 0) and not (i % 4 == 0 and i % 6 == 0):\n",
    "        print(i, end=\", \")"
   ]
  },
  {
   "cell_type": "markdown",
   "id": "188fd4ed-6bca-40fa-9600-aa1c96d65688",
   "metadata": {},
   "source": [
    "# Count Uppercase and Lowercase Letters"
   ]
  },
  {
   "cell_type": "code",
   "execution_count": 1,
   "id": "6bb14b95-74a1-445e-b1ef-2184943ccdb0",
   "metadata": {},
   "outputs": [
    {
     "name": "stdin",
     "output_type": "stream",
     "text": [
      "Enter a sentence:  What is Your name\n"
     ]
    },
    {
     "name": "stdout",
     "output_type": "stream",
     "text": [
      "Uppercase letters: 2\n",
      "Lowercase letters: 12\n"
     ]
    }
   ],
   "source": [
    "sentence = input(\"Enter a sentence: \")\n",
    "upper = lower = 0\n",
    "\n",
    "for i in sentence:\n",
    "    if i.isupper():\n",
    "        upper += 1\n",
    "    elif i.islower():\n",
    "        lower += 1\n",
    "\n",
    "print(\"Uppercase letters:\", upper)\n",
    "print(\"Lowercase letters:\", lower)"
   ]
  },
  {
   "cell_type": "markdown",
   "id": "41e312cf-821e-4d97-8086-a65ab8e62a7d",
   "metadata": {},
   "source": [
    "# Replace Vowels with ‘*’"
   ]
  },
  {
   "cell_type": "code",
   "execution_count": 2,
   "id": "bfdab6e3-d3df-4250-88f5-8b6656ad3e65",
   "metadata": {},
   "outputs": [
    {
     "name": "stdin",
     "output_type": "stream",
     "text": [
      "Enter a word:  aeiou\n"
     ]
    },
    {
     "name": "stdout",
     "output_type": "stream",
     "text": [
      "Word after replacing vowels: *****\n"
     ]
    }
   ],
   "source": [
    "word = input(\"Enter a word: \")\n",
    "vowels = \"aeiouAEIOU\"\n",
    "result = \"\"\n",
    "\n",
    "for ch in word:\n",
    "    if ch in vowels:\n",
    "        result += \"*\"\n",
    "    else:\n",
    "        result += ch\n",
    "\n",
    "print(\"Word after replacing vowels:\", result)\n"
   ]
  },
  {
   "cell_type": "markdown",
   "id": "137879cc-70ee-4abe-9092-1506a86c9c46",
   "metadata": {},
   "source": [
    "# Find Sum of Numbers Entered in a String"
   ]
  },
  {
   "cell_type": "code",
   "execution_count": 3,
   "id": "47c9c0d5-a870-45eb-8cfb-03f7722b0a3b",
   "metadata": {},
   "outputs": [
    {
     "name": "stdin",
     "output_type": "stream",
     "text": [
      "Enter a string containing letters and digits:  hi what is your name age your age is 18\n"
     ]
    },
    {
     "name": "stdout",
     "output_type": "stream",
     "text": [
      "Sum of digits: 9\n"
     ]
    }
   ],
   "source": [
    "text = input(\"Enter a string containing letters and digits: \")\n",
    "total = 0\n",
    "\n",
    "for ch in text:\n",
    "    if ch.isdigit():\n",
    "        total += int(ch)\n",
    "\n",
    "print(\"Sum of digits:\", total)\n"
   ]
  },
  {
   "cell_type": "markdown",
   "id": "7ec413ce-b394-486f-b3e8-6c2a09d119ac",
   "metadata": {},
   "source": [
    "# Count Words Starting with a Vowel"
   ]
  },
  {
   "cell_type": "markdown",
   "id": "0d459bbf-0fff-41ac-98d1-0e7d08d0537b",
   "metadata": {},
   "source": [
    "sentence = input(\"Enter a sentence: \")\n",
    "words = sentence.split()\n",
    "count = 0\n",
    "vowels = \"aeiouAEIOU\"\n",
    "\n",
    "for word in words:\n",
    "    if word[0] in vowels:\n",
    "        count += 1\n",
    "\n",
    "print(\"Words starting with a vowel:\", count)\n"
   ]
  },
  {
   "cell_type": "markdown",
   "id": "47d2c0d4-7622-4527-a219-7d0b45e6e763",
   "metadata": {},
   "source": [
    "# Display Numbers with Sum of Digits Even"
   ]
  },
  {
   "cell_type": "code",
   "execution_count": 5,
   "id": "3ad39144-b08a-4981-8120-2050397ec87a",
   "metadata": {},
   "outputs": [
    {
     "name": "stdin",
     "output_type": "stream",
     "text": [
      "Enter start of range:  0\n",
      "Enter end of range:  80\n"
     ]
    },
    {
     "name": "stdout",
     "output_type": "stream",
     "text": [
      "0, 2, 4, 6, 8, 11, 13, 15, 17, 19, 20, 22, 24, 26, 28, 31, 33, 35, 37, 39, 40, 42, 44, 46, 48, 51, 53, 55, 57, 59, 60, 62, 64, 66, 68, 71, 73, 75, 77, 79, 80, "
     ]
    }
   ],
   "source": [
    "start = int(input(\"Enter start of range: \"))\n",
    "end = int(input(\"Enter end of range: \"))\n",
    "\n",
    "for num in range(start, end + 1):\n",
    "    total = sum(int(digit) for digit in str(num))\n",
    "    if total % 2 == 0:\n",
    "        print(num, end=\", \")\n"
   ]
  },
  {
   "cell_type": "markdown",
   "id": "53ec9ce9-aa05-4cb3-ac16-541d82d0845c",
   "metadata": {},
   "source": [
    "# Character Frequency (Sorted)"
   ]
  },
  {
   "cell_type": "code",
   "execution_count": 6,
   "id": "6d33d78a-9fef-43fb-b614-6406d777a276",
   "metadata": {},
   "outputs": [
    {
     "name": "stdin",
     "output_type": "stream",
     "text": [
      "Enter a string:  hi how are you, what are you doing man\n"
     ]
    },
    {
     "name": "stdout",
     "output_type": "stream",
     "text": [
      " : 8\n",
      ",: 1\n",
      "a: 4\n",
      "d: 1\n",
      "e: 2\n",
      "g: 1\n",
      "h: 3\n",
      "i: 2\n",
      "m: 1\n",
      "n: 2\n",
      "o: 4\n",
      "r: 2\n",
      "t: 1\n",
      "u: 2\n",
      "w: 2\n",
      "y: 2\n"
     ]
    }
   ],
   "source": [
    "text = input(\"Enter a string: \")\n",
    "freq = {}\n",
    "\n",
    "for ch in text:\n",
    "    freq[ch] = freq.get(ch, 0) + 1\n",
    "\n",
    "for ch in sorted(freq.keys()):\n",
    "    print(f\"{ch}: {freq[ch]}\")\n"
   ]
  },
  {
   "cell_type": "markdown",
   "id": "1428dd72-d927-45b0-b392-1627a0877ff2",
   "metadata": {},
   "source": [
    "# Numbers Having 3 as a Digit\n"
   ]
  },
  {
   "cell_type": "code",
   "execution_count": 7,
   "id": "706d4d4f-49d9-4059-8369-4c3401e3a3f6",
   "metadata": {},
   "outputs": [
    {
     "name": "stdin",
     "output_type": "stream",
     "text": [
      "Enter start of range:  0\n",
      "Enter end of range:  40\n"
     ]
    },
    {
     "name": "stdout",
     "output_type": "stream",
     "text": [
      "3, 13, 23, 30, 31, 32, 33, 34, 35, 36, 37, 38, 39, "
     ]
    }
   ],
   "source": [
    "start = int(input(\"Enter start of range: \"))\n",
    "end = int(input(\"Enter end of range: \"))\n",
    "\n",
    "for i in range(start, end + 1):\n",
    "    if '3' in str(i):\n",
    "        print(i, end=\", \")\n"
   ]
  },
  {
   "cell_type": "markdown",
   "id": "898eef70-a2dc-43f6-82f5-7f042e6649bc",
   "metadata": {},
   "source": [
    "# Complex Divisibility with Digit Logic"
   ]
  },
  {
   "cell_type": "code",
   "execution_count": 8,
   "id": "bc118802-8921-4c6a-a982-ef38be416b80",
   "metadata": {},
   "outputs": [
    {
     "name": "stdin",
     "output_type": "stream",
     "text": [
      "Enter start of range:  1\n",
      "Enter end of range:  50\n"
     ]
    },
    {
     "name": "stdout",
     "output_type": "stream",
     "text": [
      "16, 30, 32, "
     ]
    }
   ],
   "source": [
    "start = int(input(\"Enter start of range: \"))\n",
    "end = int(input(\"Enter end of range: \"))\n",
    "\n",
    "for num in range(start, end + 1):\n",
    "    sum_digits = sum(int(d) for d in str(num))\n",
    "    if ((num % 4 == 0 or num % 6 == 0) and not (num % 4 == 0 and num % 6 == 0)\n",
    "        and sum_digits % 2 != 0 and num % 9 != 0):\n",
    "        print(num, end=\", \")\n"
   ]
  },
  {
   "cell_type": "code",
   "execution_count": null,
   "id": "dcd21278-5c4f-4fed-8be9-f495707b893d",
   "metadata": {},
   "outputs": [],
   "source": []
  }
 ],
 "metadata": {
  "kernelspec": {
   "display_name": "Python 3 (ipykernel)",
   "language": "python",
   "name": "python3"
  },
  "language_info": {
   "codemirror_mode": {
    "name": "ipython",
    "version": 3
   },
   "file_extension": ".py",
   "mimetype": "text/x-python",
   "name": "python",
   "nbconvert_exporter": "python",
   "pygments_lexer": "ipython3",
   "version": "3.13.5"
  }
 },
 "nbformat": 4,
 "nbformat_minor": 5
}
